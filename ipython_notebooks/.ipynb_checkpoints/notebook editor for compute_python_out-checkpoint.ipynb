{
  "nbformat": 4,
  "nbformat_minor": 0,
  "metadata": {
    "kernelspec": {
      "display_name": "Python 3",
      "language": "python",
      "name": "python3"
    },
    "associatedRecipe": "compute_python_out",
    "dkuGit": {
      "lastInteraction": 0
    },
    "creationTag": {
      "versionNumber": 0,
      "lastModifiedBy": {
        "login": "admin"
      },
      "lastModifiedOn": 1675695877615
    },
    "creator": "admin",
    "createdOn": 1675695877615,
    "tags": [
      "recipe-editor"
    ],
    "customFields": {}
  },
  "cells": [
    {
      "cell_type": "code",
      "metadata": {},
      "outputs": [],
      "execution_count": 0,
      "source": [
        "# -*- coding: utf-8 -*-\n",
        "import dataiku\n",
        "import pandas as pd, numpy as np\n",
        "from dataiku import pandasutils as pdu\n",
        "\n",
        "# Read recipe inputs\n",
        "all_loan_requests_final_prepared_filtered \u003d dataiku.Dataset(\"all_loan_requests_final_prepared_filtered\")\n",
        "all_loan_requests_final_prepared_filtered_df \u003d all_loan_requests_final_prepared_filtered.get_dataframe()\n",
        "\n",
        "\n",
        "# Compute recipe outputs from inputs\n",
        "# TODO: Replace this part by your actual code that computes the output, as a Pandas dataframe\n",
        "# NB: DSS also supports other kinds of APIs for reading and writing data. Please see doc.\n",
        "\n",
        "python_out_df \u003d all_loan_requests_final_prepared_filtered_df # For this sample code, simply copy input to output\n",
        "\n",
        "\n",
        "# Write recipe outputs\n",
        "python_out \u003d dataiku.Dataset(\"python_out\")\n",
        "python_out.write_with_schema(python_out_df)"
      ]
    }
  ]
}