{
 "cells": [
  {
   "cell_type": "code",
   "execution_count": 1,
   "metadata": {},
   "outputs": [
    {
     "name": "stdout",
     "output_type": "stream",
     "text": [
      "Populating the interactive namespace from numpy and matplotlib\n"
     ]
    }
   ],
   "source": [
    "%pylab inline"
   ]
  },
  {
   "cell_type": "code",
   "execution_count": 2,
   "metadata": {},
   "outputs": [],
   "source": [
    "import dataiku\n",
    "from dataiku import pandasutils as pdu\n",
    "import pandas as pd"
   ]
  },
  {
   "cell_type": "code",
   "execution_count": 4,
   "metadata": {},
   "outputs": [
    {
     "data": {
      "text/plain": [
       "[u'ALTERYXJOIN',\n",
       " u'COVID19_KUO',\n",
       " u'DKU_TUTORIAL_BASICS',\n",
       " u'DKU_TUTORIAL_LAB_FLOW',\n",
       " u'DKU_TUTORIAL_ML',\n",
       " u'DKU_TUTORIAL_WINDOW_RECIPE',\n",
       " u'FIFTHTHIRD_LOANDEFAULT',\n",
       " u'GIT_TESTING',\n",
       " u'JJ_OFFICEHOURS',\n",
       " u'LOAN_DEFAULT',\n",
       " u'NLP_PRACTICE',\n",
       " u'ONBOARDING_TITANTIC',\n",
       " u'PIPELINETUTORIAL105USINGFROMLABTOFLOWTUTORIALFORADMINISTRATOR',\n",
       " u'TROUBLESHOOTING',\n",
       " u'USECASEINTERNATIONALFLIGHTREPORTING',\n",
       " u'WESTNILEVIRUS']"
      ]
     },
     "execution_count": 4,
     "metadata": {},
     "output_type": "execute_result"
    }
   ],
   "source": [
    "client = dataiku.api_client()\n",
    "\n",
    "# client is now a DSSClient and can perform all authorized actions.\n",
    "# For example, list the project keys for which you have access\n",
    "client.list_project_keys()"
   ]
  },
  {
   "cell_type": "code",
   "execution_count": null,
   "metadata": {},
   "outputs": [],
   "source": []
  },
  {
   "cell_type": "code",
   "execution_count": null,
   "metadata": {},
   "outputs": [],
   "source": []
  },
  {
   "cell_type": "code",
   "execution_count": 0,
   "metadata": {},
   "outputs": [],
   "source": []
  }
 ],
 "metadata": {
  "creator": "admin",
  "customFields": {},
  "kernelspec": {
   "display_name": "Python 2",
   "language": "python",
   "name": "python2"
  },
  "language_info": {
   "codemirror_mode": {
    "name": "ipython",
    "version": 2
   },
   "file_extension": ".py",
   "mimetype": "text/x-python",
   "name": "python",
   "nbconvert_exporter": "python",
   "pygments_lexer": "ipython2",
   "version": "2.7.16"
  },
  "tags": []
 },
 "nbformat": 4,
 "nbformat_minor": 1
}
